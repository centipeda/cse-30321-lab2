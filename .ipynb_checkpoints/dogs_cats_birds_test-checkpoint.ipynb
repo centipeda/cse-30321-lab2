{
 "cells": [
  {
   "cell_type": "code",
   "execution_count": 0,
   "metadata": {
    "colab": {},
    "colab_type": "code",
    "id": "oI9BntWByqFQ"
   },
   "outputs": [],
   "source": [
    "%tensorflow_version 2.x\n",
    "\n",
    "import numpy as np\n",
    "import tensorflow as tf\n",
    "from tensorflow.keras.models import load_model\n",
    "from tensorflow.keras.preprocessing import image\n",
    "from tensorflow.keras import backend as K\n",
    "import matplotlib.pyplot as plt\n",
    "\n",
    "from google.colab import drive\n",
    "drive.mount('/content/gdrive')\n",
    "# sanity check for the tf version\n",
    "print(tf.__version__)\n",
    "\n",
    "# loading the google drive\n",
    "\n",
    "model_path = '/content/gdrive/My Drive/cse-30321-lab2/dogs_cats_birds_model_caseXX_30epoch'\n",
    "model=load_model(model_path)\n",
    "#model.summary()\n",
    "\n",
    "# added this line to set image width, height, and channel order\n",
    "\n",
    "img_width, img_height = 128, 128\n",
    "\n",
    "if K.image_data_format() == 'channels_first':\n",
    "    input_shape = (1,3, img_width, img_height)\n",
    "else:\n",
    "    input_shape = (1,img_width, img_height, 3)\n",
    "\n",
    "test_image_path = '/content/gdrive/My Drive/cse-30321-lab2/TEST_IMAGE_NAME.JPG'\n",
    "\n",
    "\n",
    "def test_image(filename):\n",
    "    img = image.load_img(filename, target_size=(img_width,img_height))  # AK: modified to be set by the variables img_weight and img_height\n",
    "    plt.imshow(img)    # display image\n",
    "    plt.show()\n",
    "\n",
    "    img_tensor = image.img_to_array(img)   # creates tensor\n",
    "    img_tensor = img_tensor.astype('float32') / 255.  # divides each element by 255 so it is between 0 and 1\n",
    "    img_tensor = img_tensor.reshape(input_shape) # size of input tensor # AK: modified to be set by the variables img_weight, img_height and channel order\n",
    "    \n",
    "    # predictions of the model\n",
    "    pred = model.predict(img_tensor)\n",
    "    print(pred) \n",
    "\n",
    "    # Dictionary of all classes\n",
    "    labels = {0: 'birds', 1: 'cats', 2: 'dogs'}\n",
    "    predicted_class_indices=np.argmax(pred,axis=1) # find most likely prediction\n",
    "    predictions = [labels[k] for k in predicted_class_indices] # find the label of the most likely prediction\n",
    "\n",
    "    print(predictions)\n",
    "    \n",
    "\n",
    "test_image(test_image_path) # added this variable to be set up top"
   ]
  },
  {
   "cell_type": "code",
   "execution_count": 0,
   "metadata": {
    "colab": {},
    "colab_type": "code",
    "id": "RT4-faBDz9No"
   },
   "outputs": [],
   "source": []
  }
 ],
 "metadata": {
  "accelerator": "TPU",
  "colab": {
   "collapsed_sections": [],
   "name": "dogs_cats_birds_test.ipynb",
   "provenance": []
  },
  "kernelspec": {
   "display_name": "Python 3",
   "language": "python",
   "name": "python3"
  },
  "language_info": {
   "codemirror_mode": {
    "name": "ipython",
    "version": 3
   },
   "file_extension": ".py",
   "mimetype": "text/x-python",
   "name": "python",
   "nbconvert_exporter": "python",
   "pygments_lexer": "ipython3",
   "version": "3.7.9"
  }
 },
 "nbformat": 4,
 "nbformat_minor": 1
}
